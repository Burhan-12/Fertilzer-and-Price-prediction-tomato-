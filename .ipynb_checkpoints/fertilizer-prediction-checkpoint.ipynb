{
 "cells": [
  {
   "cell_type": "code",
   "execution_count": 1,
   "id": "6af052aa",
   "metadata": {
    "_cell_guid": "b1076dfc-b9ad-4769-8c92-a6c4dae69d19",
    "_uuid": "8f2839f25d086af736a60e9eeb907d3b93b6e0e5",
    "execution": {
     "iopub.execute_input": "2023-10-08T16:25:07.468999Z",
     "iopub.status.busy": "2023-10-08T16:25:07.468285Z",
     "iopub.status.idle": "2023-10-08T16:25:08.180757Z",
     "shell.execute_reply": "2023-10-08T16:25:08.179775Z"
    },
    "papermill": {
     "duration": 0.722489,
     "end_time": "2023-10-08T16:25:08.182785",
     "exception": false,
     "start_time": "2023-10-08T16:25:07.460296",
     "status": "completed"
    },
    "tags": []
   },
   "outputs": [],
   "source": [
    "import numpy as np # linear algebra\n",
    "import pandas as pd # data processing, CSV file I/O (e.g. pd.read_csv)\n",
    "\n",
    "\n",
    "\n",
    "# import os\n",
    "# for dirname, _, filenames in os.walk('/kaggle/input'):\n",
    "#     for filename in filenames:\n",
    "#         print(os.path.join(dirname, filename))\n",
    "#         print(\"Traversed through:\", file_path)"
   ]
  },
  {
   "cell_type": "code",
   "execution_count": 2,
   "id": "e792d068",
   "metadata": {
    "execution": {
     "iopub.execute_input": "2023-10-08T16:25:08.196483Z",
     "iopub.status.busy": "2023-10-08T16:25:08.195776Z",
     "iopub.status.idle": "2023-10-08T16:25:08.229382Z",
     "shell.execute_reply": "2023-10-08T16:25:08.228304Z"
    },
    "papermill": {
     "duration": 0.042579,
     "end_time": "2023-10-08T16:25:08.231306",
     "exception": false,
     "start_time": "2023-10-08T16:25:08.188727",
     "status": "completed"
    },
    "tags": []
   },
   "outputs": [
    {
     "name": "stdout",
     "output_type": "stream",
     "text": [
      "Index(['Temparature', 'Humidity ', 'Moisture', 'Soil Type', 'Crop Type',\n",
      "       'Nitrogen', 'Potassium', 'Phosphorous', 'Fertilizer Name'],\n",
      "      dtype='object')\n"
     ]
    }
   ],
   "source": [
    "data=pd.read_csv(\"Fertilizer Prediction.csv\")\n",
    "data.head()\n",
    "print(data.columns)"
   ]
  },
  {
   "cell_type": "markdown",
   "id": "28cf2f38",
   "metadata": {
    "papermill": {
     "duration": 0.005268,
     "end_time": "2023-10-08T16:25:08.242238",
     "exception": false,
     "start_time": "2023-10-08T16:25:08.236970",
     "status": "completed"
    },
    "tags": []
   },
   "source": [
    "## Dataset Informations"
   ]
  },
  {
   "cell_type": "code",
   "execution_count": 3,
   "id": "79cb6868",
   "metadata": {
    "execution": {
     "iopub.execute_input": "2023-10-08T16:25:08.254514Z",
     "iopub.status.busy": "2023-10-08T16:25:08.254007Z",
     "iopub.status.idle": "2023-10-08T16:25:08.281249Z",
     "shell.execute_reply": "2023-10-08T16:25:08.280290Z"
    },
    "papermill": {
     "duration": 0.035624,
     "end_time": "2023-10-08T16:25:08.283202",
     "exception": false,
     "start_time": "2023-10-08T16:25:08.247578",
     "status": "completed"
    },
    "tags": []
   },
   "outputs": [
    {
     "data": {
      "text/html": [
       "<div>\n",
       "<style scoped>\n",
       "    .dataframe tbody tr th:only-of-type {\n",
       "        vertical-align: middle;\n",
       "    }\n",
       "\n",
       "    .dataframe tbody tr th {\n",
       "        vertical-align: top;\n",
       "    }\n",
       "\n",
       "    .dataframe thead th {\n",
       "        text-align: right;\n",
       "    }\n",
       "</style>\n",
       "<table border=\"1\" class=\"dataframe\">\n",
       "  <thead>\n",
       "    <tr style=\"text-align: right;\">\n",
       "      <th></th>\n",
       "      <th>Temparature</th>\n",
       "      <th>Humidity</th>\n",
       "      <th>Moisture</th>\n",
       "      <th>Nitrogen</th>\n",
       "      <th>Potassium</th>\n",
       "      <th>Phosphorous</th>\n",
       "    </tr>\n",
       "  </thead>\n",
       "  <tbody>\n",
       "    <tr>\n",
       "      <th>count</th>\n",
       "      <td>6.000000</td>\n",
       "      <td>6.000000</td>\n",
       "      <td>6.000000</td>\n",
       "      <td>6.000000</td>\n",
       "      <td>6.000000</td>\n",
       "      <td>6.000000</td>\n",
       "    </tr>\n",
       "    <tr>\n",
       "      <th>mean</th>\n",
       "      <td>29.000000</td>\n",
       "      <td>57.333333</td>\n",
       "      <td>42.166667</td>\n",
       "      <td>18.333333</td>\n",
       "      <td>5.666667</td>\n",
       "      <td>18.666667</td>\n",
       "    </tr>\n",
       "    <tr>\n",
       "      <th>std</th>\n",
       "      <td>2.828427</td>\n",
       "      <td>5.316641</td>\n",
       "      <td>9.495613</td>\n",
       "      <td>11.552777</td>\n",
       "      <td>6.531973</td>\n",
       "      <td>11.272385</td>\n",
       "    </tr>\n",
       "    <tr>\n",
       "      <th>min</th>\n",
       "      <td>26.000000</td>\n",
       "      <td>52.000000</td>\n",
       "      <td>25.000000</td>\n",
       "      <td>5.000000</td>\n",
       "      <td>0.000000</td>\n",
       "      <td>0.000000</td>\n",
       "    </tr>\n",
       "    <tr>\n",
       "      <th>25%</th>\n",
       "      <td>26.500000</td>\n",
       "      <td>52.500000</td>\n",
       "      <td>39.500000</td>\n",
       "      <td>10.250000</td>\n",
       "      <td>0.000000</td>\n",
       "      <td>14.000000</td>\n",
       "    </tr>\n",
       "    <tr>\n",
       "      <th>50%</th>\n",
       "      <td>29.000000</td>\n",
       "      <td>57.000000</td>\n",
       "      <td>45.500000</td>\n",
       "      <td>18.000000</td>\n",
       "      <td>4.500000</td>\n",
       "      <td>20.500000</td>\n",
       "    </tr>\n",
       "    <tr>\n",
       "      <th>75%</th>\n",
       "      <td>30.750000</td>\n",
       "      <td>61.500000</td>\n",
       "      <td>47.750000</td>\n",
       "      <td>22.750000</td>\n",
       "      <td>9.750000</td>\n",
       "      <td>27.000000</td>\n",
       "    </tr>\n",
       "    <tr>\n",
       "      <th>max</th>\n",
       "      <td>33.000000</td>\n",
       "      <td>64.000000</td>\n",
       "      <td>51.000000</td>\n",
       "      <td>37.000000</td>\n",
       "      <td>15.000000</td>\n",
       "      <td>30.000000</td>\n",
       "    </tr>\n",
       "  </tbody>\n",
       "</table>\n",
       "</div>"
      ],
      "text/plain": [
       "       Temparature  Humidity    Moisture   Nitrogen  Potassium  Phosphorous\n",
       "count     6.000000   6.000000   6.000000   6.000000   6.000000     6.000000\n",
       "mean     29.000000  57.333333  42.166667  18.333333   5.666667    18.666667\n",
       "std       2.828427   5.316641   9.495613  11.552777   6.531973    11.272385\n",
       "min      26.000000  52.000000  25.000000   5.000000   0.000000     0.000000\n",
       "25%      26.500000  52.500000  39.500000  10.250000   0.000000    14.000000\n",
       "50%      29.000000  57.000000  45.500000  18.000000   4.500000    20.500000\n",
       "75%      30.750000  61.500000  47.750000  22.750000   9.750000    27.000000\n",
       "max      33.000000  64.000000  51.000000  37.000000  15.000000    30.000000"
      ]
     },
     "execution_count": 3,
     "metadata": {},
     "output_type": "execute_result"
    }
   ],
   "source": [
    "data.describe()"
   ]
  },
  {
   "cell_type": "markdown",
   "id": "664cfd71",
   "metadata": {
    "papermill": {
     "duration": 0.005271,
     "end_time": "2023-10-08T16:25:08.294238",
     "exception": false,
     "start_time": "2023-10-08T16:25:08.288967",
     "status": "completed"
    },
    "tags": []
   },
   "source": [
    "### Data Preprocessing"
   ]
  },
  {
   "cell_type": "markdown",
   "id": "19b8a879",
   "metadata": {
    "papermill": {
     "duration": 0.005431,
     "end_time": "2023-10-08T16:25:08.305262",
     "exception": false,
     "start_time": "2023-10-08T16:25:08.299831",
     "status": "completed"
    },
    "tags": []
   },
   "source": [
    "#### Finding the length of the Dataset"
   ]
  },
  {
   "cell_type": "code",
   "execution_count": 4,
   "id": "a18916d3",
   "metadata": {
    "execution": {
     "iopub.execute_input": "2023-10-08T16:25:08.318412Z",
     "iopub.status.busy": "2023-10-08T16:25:08.317859Z",
     "iopub.status.idle": "2023-10-08T16:25:08.323343Z",
     "shell.execute_reply": "2023-10-08T16:25:08.322627Z"
    },
    "papermill": {
     "duration": 0.014044,
     "end_time": "2023-10-08T16:25:08.324985",
     "exception": false,
     "start_time": "2023-10-08T16:25:08.310941",
     "status": "completed"
    },
    "tags": []
   },
   "outputs": [
    {
     "data": {
      "text/plain": [
       "(6, 9)"
      ]
     },
     "execution_count": 4,
     "metadata": {},
     "output_type": "execute_result"
    }
   ],
   "source": [
    "data.shape"
   ]
  },
  {
   "cell_type": "code",
   "execution_count": 5,
   "id": "0ff7571f",
   "metadata": {},
   "outputs": [
    {
     "data": {
      "text/plain": [
       "Index(['Temparature', 'Humidity ', 'Moisture', 'Soil Type', 'Crop Type',\n",
       "       'Nitrogen', 'Potassium', 'Phosphorous', 'Fertilizer Name'],\n",
       "      dtype='object')"
      ]
     },
     "execution_count": 5,
     "metadata": {},
     "output_type": "execute_result"
    }
   ],
   "source": [
    "data.columns"
   ]
  },
  {
   "cell_type": "markdown",
   "id": "2e90be9c",
   "metadata": {
    "papermill": {
     "duration": 0.005463,
     "end_time": "2023-10-08T16:25:08.336343",
     "exception": false,
     "start_time": "2023-10-08T16:25:08.330880",
     "status": "completed"
    },
    "tags": []
   },
   "source": [
    "#### Finding the missing values"
   ]
  },
  {
   "cell_type": "code",
   "execution_count": 6,
   "id": "f95caba3",
   "metadata": {
    "execution": {
     "iopub.execute_input": "2023-10-08T16:25:08.349559Z",
     "iopub.status.busy": "2023-10-08T16:25:08.348978Z",
     "iopub.status.idle": "2023-10-08T16:25:08.356296Z",
     "shell.execute_reply": "2023-10-08T16:25:08.355556Z"
    },
    "papermill": {
     "duration": 0.016063,
     "end_time": "2023-10-08T16:25:08.358047",
     "exception": false,
     "start_time": "2023-10-08T16:25:08.341984",
     "status": "completed"
    },
    "scrolled": true,
    "tags": []
   },
   "outputs": [
    {
     "data": {
      "text/plain": [
       "Temparature        0\n",
       "Humidity           0\n",
       "Moisture           0\n",
       "Soil Type          0\n",
       "Crop Type          0\n",
       "Nitrogen           0\n",
       "Potassium          0\n",
       "Phosphorous        0\n",
       "Fertilizer Name    0\n",
       "dtype: int64"
      ]
     },
     "execution_count": 6,
     "metadata": {},
     "output_type": "execute_result"
    }
   ],
   "source": [
    "data.isnull().sum()"
   ]
  },
  {
   "cell_type": "markdown",
   "id": "73ec9296",
   "metadata": {
    "papermill": {
     "duration": 0.005787,
     "end_time": "2023-10-08T16:25:08.369732",
     "exception": false,
     "start_time": "2023-10-08T16:25:08.363945",
     "status": "completed"
    },
    "tags": []
   },
   "source": [
    "**No Missing values detected**"
   ]
  },
  {
   "cell_type": "markdown",
   "id": "ad946368",
   "metadata": {
    "papermill": {
     "duration": 0.005431,
     "end_time": "2023-10-08T16:25:08.380811",
     "exception": false,
     "start_time": "2023-10-08T16:25:08.375380",
     "status": "completed"
    },
    "tags": []
   },
   "source": [
    "### Visualizing the Dataset"
   ]
  },
  {
   "cell_type": "code",
   "execution_count": 7,
   "id": "2b2699d3",
   "metadata": {
    "execution": {
     "iopub.execute_input": "2023-10-08T16:25:08.393950Z",
     "iopub.status.busy": "2023-10-08T16:25:08.393382Z",
     "iopub.status.idle": "2023-10-08T16:25:09.975267Z",
     "shell.execute_reply": "2023-10-08T16:25:09.973979Z"
    },
    "papermill": {
     "duration": 1.592602,
     "end_time": "2023-10-08T16:25:09.978941",
     "exception": false,
     "start_time": "2023-10-08T16:25:08.386339",
     "status": "completed"
    },
    "tags": []
   },
   "outputs": [
    {
     "data": {
      "text/plain": [
       "<Axes: xlabel='Fertilizer Name', ylabel='count'>"
      ]
     },
     "execution_count": 7,
     "metadata": {},
     "output_type": "execute_result"
    },
    {
     "data": {
      "image/png": "[encoded data removed]",
      "text/plain": [
       "<Figure size 640x480 with 1 Axes>"
      ]
     },
     "metadata": {},
     "output_type": "display_data"
    }
   ],
   "source": [
    "import seaborn as sns\n",
    "import matplotlib.pyplot as plt\n",
    "\n",
    "sns.countplot(data=data,x='Fertilizer Name')\n"
   ]
  },
  {
   "cell_type": "markdown",
   "id": "ad46aa0b",
   "metadata": {
    "papermill": {
     "duration": 0.005935,
     "end_time": "2023-10-08T16:25:09.994996",
     "exception": false,
     "start_time": "2023-10-08T16:25:09.989061",
     "status": "completed"
    },
    "tags": []
   },
   "source": [
    "### Removing Categorical Variable from the Dataset which is soil type and crop type"
   ]
  },
  {
   "cell_type": "code",
   "execution_count": 8,
   "id": "e12416f9",
   "metadata": {
    "execution": {
     "iopub.execute_input": "2023-10-08T16:25:10.007915Z",
     "iopub.status.busy": "2023-10-08T16:25:10.007550Z",
     "iopub.status.idle": "2023-10-08T16:25:10.015766Z",
     "shell.execute_reply": "2023-10-08T16:25:10.015143Z"
    },
    "papermill": {
     "duration": 0.016692,
     "end_time": "2023-10-08T16:25:10.017331",
     "exception": false,
     "start_time": "2023-10-08T16:25:10.000639",
     "status": "completed"
    },
    "tags": []
   },
   "outputs": [
    {
     "data": {
      "text/plain": [
       "Soil Type\n",
       "Sandy    6\n",
       "Name: count, dtype: int64"
      ]
     },
     "execution_count": 8,
     "metadata": {},
     "output_type": "execute_result"
    }
   ],
   "source": [
    "data['Soil Type'].value_counts()"
   ]
  },
  {
   "cell_type": "code",
   "execution_count": 9,
   "id": "d3f202cd",
   "metadata": {
    "execution": {
     "iopub.execute_input": "2023-10-08T16:25:10.031560Z",
     "iopub.status.busy": "2023-10-08T16:25:10.031136Z",
     "iopub.status.idle": "2023-10-08T16:25:10.037092Z",
     "shell.execute_reply": "2023-10-08T16:25:10.036415Z"
    },
    "papermill": {
     "duration": 0.015014,
     "end_time": "2023-10-08T16:25:10.038844",
     "exception": false,
     "start_time": "2023-10-08T16:25:10.023830",
     "status": "completed"
    },
    "tags": []
   },
   "outputs": [
    {
     "data": {
      "text/plain": [
       "Crop Type\n",
       "Maize    6\n",
       "Name: count, dtype: int64"
      ]
     },
     "execution_count": 9,
     "metadata": {},
     "output_type": "execute_result"
    }
   ],
   "source": [
    "data['Crop Type'].value_counts()"
   ]
  },
  {
   "cell_type": "markdown",
   "id": "3da528ee",
   "metadata": {
    "papermill": {
     "duration": 0.006299,
     "end_time": "2023-10-08T16:25:10.051541",
     "exception": false,
     "start_time": "2023-10-08T16:25:10.045242",
     "status": "completed"
    },
    "tags": []
   },
   "source": [
    "### As Soil Type and Crop Type are Categorical Variable mapping them to a numerical variable for good model accuracy"
   ]
  },
  {
   "cell_type": "code",
   "execution_count": 10,
   "id": "30dd0022",
   "metadata": {
    "execution": {
     "iopub.execute_input": "2023-10-08T16:25:10.065746Z",
     "iopub.status.busy": "2023-10-08T16:25:10.065431Z",
     "iopub.status.idle": "2023-10-08T16:25:10.070141Z",
     "shell.execute_reply": "2023-10-08T16:25:10.069153Z"
    },
    "papermill": {
     "duration": 0.013852,
     "end_time": "2023-10-08T16:25:10.071859",
     "exception": false,
     "start_time": "2023-10-08T16:25:10.058007",
     "status": "completed"
    },
    "tags": []
   },
   "outputs": [],
   "source": [
    "#as properties of maize and tomato are same so we can use maize instead of tomato to predict the fertilizer\n",
    "crop = 'Maize'\n",
    "filtered_dataset = data[data['Crop Type'].str.strip() == crop]\n",
    "filtered_dataset.to_csv('Fertilizer Prediction.csv', index= False)\n",
    "data['Crop Type'].value_counts()\n",
    "\n",
    "soil_dict={\n",
    "    'Loamy':1,\n",
    "    'Sandy':2,\n",
    "    'Clayey':3,\n",
    "    'Black':4,\n",
    "    'Red':5\n",
    "}\n",
    "\n",
    "crop_dict={\n",
    "    'Maize':1\n",
    "    \n",
    "}"
   ]
  },
  {
   "cell_type": "code",
   "execution_count": 11,
   "id": "9aa23d4e",
   "metadata": {
    "execution": {
     "iopub.execute_input": "2023-10-08T16:25:10.085184Z",
     "iopub.status.busy": "2023-10-08T16:25:10.084936Z",
     "iopub.status.idle": "2023-10-08T16:25:10.091115Z",
     "shell.execute_reply": "2023-10-08T16:25:10.090412Z"
    },
    "papermill": {
     "duration": 0.014566,
     "end_time": "2023-10-08T16:25:10.092663",
     "exception": false,
     "start_time": "2023-10-08T16:25:10.078097",
     "status": "completed"
    },
    "tags": []
   },
   "outputs": [],
   "source": [
    "data['Soil_Num']=data['Soil Type'].map(soil_dict)\n",
    "data['Crop_Num']=data['Crop Type'].map(crop_dict)"
   ]
  },
  {
   "cell_type": "code",
   "execution_count": 12,
   "id": "adbfde4f",
   "metadata": {
    "execution": {
     "iopub.execute_input": "2023-10-08T16:25:10.106470Z",
     "iopub.status.busy": "2023-10-08T16:25:10.106244Z",
     "iopub.status.idle": "2023-10-08T16:25:10.118486Z",
     "shell.execute_reply": "2023-10-08T16:25:10.117598Z"
    },
    "papermill": {
     "duration": 0.021393,
     "end_time": "2023-10-08T16:25:10.120279",
     "exception": false,
     "start_time": "2023-10-08T16:25:10.098886",
     "status": "completed"
    },
    "tags": []
   },
   "outputs": [
    {
     "data": {
      "text/html": [
       "<div>\n",
       "<style scoped>\n",
       "    .dataframe tbody tr th:only-of-type {\n",
       "        vertical-align: middle;\n",
       "    }\n",
       "\n",
       "    .dataframe tbody tr th {\n",
       "        vertical-align: top;\n",
       "    }\n",
       "\n",
       "    .dataframe thead th {\n",
       "        text-align: right;\n",
       "    }\n",
       "</style>\n",
       "<table border=\"1\" class=\"dataframe\">\n",
       "  <thead>\n",
       "    <tr style=\"text-align: right;\">\n",
       "      <th></th>\n",
       "      <th>Temparature</th>\n",
       "      <th>Humidity</th>\n",
       "      <th>Moisture</th>\n",
       "      <th>Nitrogen</th>\n",
       "      <th>Potassium</th>\n",
       "      <th>Phosphorous</th>\n",
       "      <th>Fertilizer Name</th>\n",
       "      <th>Soil_Num</th>\n",
       "      <th>Crop_Num</th>\n",
       "    </tr>\n",
       "  </thead>\n",
       "  <tbody>\n",
       "    <tr>\n",
       "      <th>0</th>\n",
       "      <td>26</td>\n",
       "      <td>52</td>\n",
       "      <td>38</td>\n",
       "      <td>37</td>\n",
       "      <td>0</td>\n",
       "      <td>0</td>\n",
       "      <td>Urea</td>\n",
       "      <td>2</td>\n",
       "      <td>1</td>\n",
       "    </tr>\n",
       "    <tr>\n",
       "      <th>1</th>\n",
       "      <td>31</td>\n",
       "      <td>62</td>\n",
       "      <td>48</td>\n",
       "      <td>14</td>\n",
       "      <td>15</td>\n",
       "      <td>12</td>\n",
       "      <td>17-17-17</td>\n",
       "      <td>2</td>\n",
       "      <td>1</td>\n",
       "    </tr>\n",
       "    <tr>\n",
       "      <th>2</th>\n",
       "      <td>26</td>\n",
       "      <td>52</td>\n",
       "      <td>44</td>\n",
       "      <td>23</td>\n",
       "      <td>0</td>\n",
       "      <td>20</td>\n",
       "      <td>28-28</td>\n",
       "      <td>2</td>\n",
       "      <td>1</td>\n",
       "    </tr>\n",
       "    <tr>\n",
       "      <th>3</th>\n",
       "      <td>33</td>\n",
       "      <td>64</td>\n",
       "      <td>51</td>\n",
       "      <td>5</td>\n",
       "      <td>9</td>\n",
       "      <td>29</td>\n",
       "      <td>14-35-14</td>\n",
       "      <td>2</td>\n",
       "      <td>1</td>\n",
       "    </tr>\n",
       "    <tr>\n",
       "      <th>4</th>\n",
       "      <td>30</td>\n",
       "      <td>60</td>\n",
       "      <td>47</td>\n",
       "      <td>22</td>\n",
       "      <td>0</td>\n",
       "      <td>21</td>\n",
       "      <td>28-28</td>\n",
       "      <td>2</td>\n",
       "      <td>1</td>\n",
       "    </tr>\n",
       "  </tbody>\n",
       "</table>\n",
       "</div>"
      ],
      "text/plain": [
       "   Temparature  Humidity   Moisture  Nitrogen  Potassium  Phosphorous  \\\n",
       "0           26         52        38        37          0            0   \n",
       "1           31         62        48        14         15           12   \n",
       "2           26         52        44        23          0           20   \n",
       "3           33         64        51         5          9           29   \n",
       "4           30         60        47        22          0           21   \n",
       "\n",
       "  Fertilizer Name  Soil_Num  Crop_Num  \n",
       "0            Urea         2         1  \n",
       "1        17-17-17         2         1  \n",
       "2           28-28         2         1  \n",
       "3        14-35-14         2         1  \n",
       "4           28-28         2         1  "
      ]
     },
     "execution_count": 12,
     "metadata": {},
     "output_type": "execute_result"
    }
   ],
   "source": [
    "data=data.drop(['Soil Type','Crop Type'],axis=1)\n",
    "data.head()"
   ]
  },
  {
   "cell_type": "markdown",
   "id": "a92d99f4",
   "metadata": {
    "papermill": {
     "duration": 0.006212,
     "end_time": "2023-10-08T16:25:10.132725",
     "exception": false,
     "start_time": "2023-10-08T16:25:10.126513",
     "status": "completed"
    },
    "tags": []
   },
   "source": [
    "#### Splitting the Dataset into X and Y "
   ]
  },
  {
   "cell_type": "code",
   "execution_count": 13,
   "id": "23b616e7",
   "metadata": {
    "execution": {
     "iopub.execute_input": "2023-10-08T16:25:10.146232Z",
     "iopub.status.busy": "2023-10-08T16:25:10.145988Z",
     "iopub.status.idle": "2023-10-08T16:25:10.150487Z",
     "shell.execute_reply": "2023-10-08T16:25:10.149711Z"
    },
    "papermill": {
     "duration": 0.013408,
     "end_time": "2023-10-08T16:25:10.152288",
     "exception": false,
     "start_time": "2023-10-08T16:25:10.138880",
     "status": "completed"
    },
    "tags": []
   },
   "outputs": [],
   "source": [
    "X=data.drop(['Fertilizer Name'],axis=1)\n",
    "Y=data['Fertilizer Name']"
   ]
  },
  {
   "cell_type": "markdown",
   "id": "d8201cf0",
   "metadata": {
    "papermill": {
     "duration": 0.006004,
     "end_time": "2023-10-08T16:25:10.164596",
     "exception": false,
     "start_time": "2023-10-08T16:25:10.158592",
     "status": "completed"
    },
    "tags": []
   },
   "source": [
    "### Splitting Dataset into Train and Test for checking the Accuracy"
   ]
  },
  {
   "cell_type": "code",
   "execution_count": 14,
   "id": "7bcfdafe",
   "metadata": {
    "execution": {
     "iopub.execute_input": "2023-10-08T16:25:10.180756Z",
     "iopub.status.busy": "2023-10-08T16:25:10.180411Z",
     "iopub.status.idle": "2023-10-08T16:25:10.418451Z",
     "shell.execute_reply": "2023-10-08T16:25:10.417665Z"
    },
    "papermill": {
     "duration": 0.247493,
     "end_time": "2023-10-08T16:25:10.420420",
     "exception": false,
     "start_time": "2023-10-08T16:25:10.172927",
     "status": "completed"
    },
    "tags": []
   },
   "outputs": [],
   "source": [
    "from sklearn.model_selection import train_test_split\n",
    "X_train,X_test,Y_train,Y_test=train_test_split(X,Y,test_size=0.2)\n",
    "X_train = X_train.dropna()\n",
    "X_test = X_test.dropna()\n"
   ]
  },
  {
   "cell_type": "code",
   "execution_count": 15,
   "id": "6837c4b8",
   "metadata": {
    "execution": {
     "iopub.execute_input": "2023-10-08T16:25:10.435558Z",
     "iopub.status.busy": "2023-10-08T16:25:10.435023Z",
     "iopub.status.idle": "2023-10-08T16:25:10.440522Z",
     "shell.execute_reply": "2023-10-08T16:25:10.439561Z"
    },
    "papermill": {
     "duration": 0.015082,
     "end_time": "2023-10-08T16:25:10.442314",
     "exception": false,
     "start_time": "2023-10-08T16:25:10.427232",
     "status": "completed"
    },
    "tags": []
   },
   "outputs": [
    {
     "data": {
      "text/plain": [
       "(4, 8)"
      ]
     },
     "execution_count": 15,
     "metadata": {},
     "output_type": "execute_result"
    }
   ],
   "source": [
    "X_train.shape"
   ]
  },
  {
   "cell_type": "code",
   "execution_count": 16,
   "id": "d9f37e77",
   "metadata": {
    "execution": {
     "iopub.execute_input": "2023-10-08T16:25:10.456975Z",
     "iopub.status.busy": "2023-10-08T16:25:10.456662Z",
     "iopub.status.idle": "2023-10-08T16:25:10.462488Z",
     "shell.execute_reply": "2023-10-08T16:25:10.461562Z"
    },
    "papermill": {
     "duration": 0.015206,
     "end_time": "2023-10-08T16:25:10.464123",
     "exception": false,
     "start_time": "2023-10-08T16:25:10.448917",
     "status": "completed"
    },
    "tags": []
   },
   "outputs": [
    {
     "data": {
      "text/plain": [
       "(2, 8)"
      ]
     },
     "execution_count": 16,
     "metadata": {},
     "output_type": "execute_result"
    }
   ],
   "source": [
    "X_test.shape"
   ]
  },
  {
   "cell_type": "markdown",
   "id": "c9aef5db",
   "metadata": {
    "papermill": {
     "duration": 0.006322,
     "end_time": "2023-10-08T16:25:10.477344",
     "exception": false,
     "start_time": "2023-10-08T16:25:10.471022",
     "status": "completed"
    },
    "tags": []
   },
   "source": [
    "#### Model Building "
   ]
  },
  {
   "cell_type": "markdown",
   "id": "90523139",
   "metadata": {
    "papermill": {
     "duration": 0.006036,
     "end_time": "2023-10-08T16:25:10.489775",
     "exception": false,
     "start_time": "2023-10-08T16:25:10.483739",
     "status": "completed"
    },
    "tags": []
   },
   "source": [
    "**Importing all the Classifier Algorithms**"
   ]
  },
  {
   "cell_type": "code",
   "execution_count": 33,
   "id": "dba2bf1e",
   "metadata": {
    "execution": {
     "iopub.execute_input": "2023-10-08T16:25:10.503557Z",
     "iopub.status.busy": "2023-10-08T16:25:10.503207Z",
     "iopub.status.idle": "2023-10-08T16:25:11.737635Z",
     "shell.execute_reply": "2023-10-08T16:25:11.736949Z"
    },
    "papermill": {
     "duration": 1.243435,
     "end_time": "2023-10-08T16:25:11.739375",
     "exception": false,
     "start_time": "2023-10-08T16:25:10.495940",
     "status": "completed"
    },
    "scrolled": true,
    "tags": []
   },
   "outputs": [
    {
     "name": "stdout",
     "output_type": "stream",
     "text": [
      "the Accuracy of Logistic Regression is  0.5\n",
      "the Accuracy of Naive Bayes is  0.5\n",
      "the Accuracy of Support Vector Machine is  0.5\n",
      "the Accuracy of Decision Tree is  0.0\n",
      "the Accuracy of Random Forest is  0.5\n",
      "the Accuracy of Bagging is  0.5\n",
      "the Accuracy of AdaBoost is  0.5\n",
      "the Accuracy of Gradient Boosting is  0.0\n",
      "the Accuracy of Extra Trees is  0.5\n"
     ]
    }
   ],
   "source": [
    "from sklearn.linear_model import LogisticRegression\n",
    "from sklearn.naive_bayes import GaussianNB\n",
    "from sklearn.svm import SVC\n",
    "from sklearn.neighbors import KNeighborsClassifier\n",
    "from sklearn.tree import DecisionTreeClassifier\n",
    "from sklearn.tree import ExtraTreeClassifier\n",
    "from sklearn.ensemble import RandomForestClassifier\n",
    "from sklearn.ensemble import BaggingClassifier\n",
    "from sklearn.ensemble import GradientBoostingClassifier\n",
    "from sklearn.ensemble import AdaBoostClassifier\n",
    "from sklearn.metrics import accuracy_score\n",
    "\n",
    "# create instances of all models\n",
    "models = {\n",
    "    'Logistic Regression': LogisticRegression(max_iter=1000),\n",
    "    'Naive Bayes': GaussianNB(),\n",
    "    'Support Vector Machine': SVC(),\n",
    "#     'K-Nearest Neighbors': KNeighborsClassifier(),\n",
    "    'Decision Tree': DecisionTreeClassifier(),\n",
    "    'Random Forest': RandomForestClassifier(),\n",
    "    'Bagging': BaggingClassifier(),\n",
    "    'AdaBoost': AdaBoostClassifier(),\n",
    "    'Gradient Boosting': GradientBoostingClassifier(),\n",
    "    'Extra Trees': ExtraTreeClassifier(),\n",
    "}\n",
    "\n",
    "for name,md in models.items():\n",
    "    md.fit(X_train,Y_train)\n",
    "    ypred=md.predict(X_test)\n",
    "    \n",
    "    print(f\"the Accuracy of {name} is \",accuracy_score(Y_test,ypred))\n",
    "    \n"
   ]
  },
  {
   "cell_type": "markdown",
   "id": "d33c2f64",
   "metadata": {
    "papermill": {
     "duration": 0.006866,
     "end_time": "2023-10-08T16:25:11.753091",
     "exception": false,
     "start_time": "2023-10-08T16:25:11.746225",
     "status": "completed"
    },
    "tags": []
   },
   "source": [
    "### Let's Take Random Forest Classifier for our model building"
   ]
  },
  {
   "cell_type": "code",
   "execution_count": 34,
   "id": "11bf2cd3",
   "metadata": {
    "execution": {
     "iopub.execute_input": "2023-10-08T16:25:11.767978Z",
     "iopub.status.busy": "2023-10-08T16:25:11.767448Z",
     "iopub.status.idle": "2023-10-08T16:25:11.777157Z",
     "shell.execute_reply": "2023-10-08T16:25:11.776223Z"
    },
    "papermill": {
     "duration": 0.019124,
     "end_time": "2023-10-08T16:25:11.778999",
     "exception": false,
     "start_time": "2023-10-08T16:25:11.759875",
     "status": "completed"
    },
    "tags": []
   },
   "outputs": [
    {
     "data": {
      "text/plain": [
       "0.5"
      ]
     },
     "execution_count": 34,
     "metadata": {},
     "output_type": "execute_result"
    }
   ],
   "source": [
    "from sklearn.ensemble import RandomForestClassifier\n",
    "classifier=RandomForestClassifier(random_state=42)\n",
    "classifier.fit(X_train,Y_train)\n",
    "ypred=classifier.predict(X_test)\n",
    "accuracy_score(Y_test,ypred)\n",
    "# Create and train a new model\n",
    "# new_model = RandomForestClassifier(random_state=42)\n",
    "# new_model.fit(X_train, y_train)\n"
   ]
  },
  {
   "cell_type": "code",
   "execution_count": 19,
   "id": "05231b9e",
   "metadata": {
    "execution": {
     "iopub.execute_input": "2023-10-08T16:25:11.795034Z",
     "iopub.status.busy": "2023-10-08T16:25:11.794667Z",
     "iopub.status.idle": "2023-10-08T16:25:11.799759Z",
     "shell.execute_reply": "2023-10-08T16:25:11.798807Z"
    },
    "papermill": {
     "duration": 0.015137,
     "end_time": "2023-10-08T16:25:11.801422",
     "exception": false,
     "start_time": "2023-10-08T16:25:11.786285",
     "status": "completed"
    },
    "tags": []
   },
   "outputs": [],
   "source": [
    "from joblib import dump\n",
    "\n",
    "# Save the new model\n",
    "dump(new_model, 'model.joblib')"
   ]
  },
  {
   "cell_type": "code",
   "execution_count": 20,
   "id": "275bd2cd",
   "metadata": {
    "execution": {
     "iopub.execute_input": "2023-10-08T16:25:11.867518Z",
     "iopub.status.busy": "2023-10-08T16:25:11.867166Z",
     "iopub.status.idle": "2023-10-08T16:25:11.877432Z",
     "shell.execute_reply": "2023-10-08T16:25:11.876402Z"
    },
    "papermill": {
     "duration": 0.020143,
     "end_time": "2023-10-08T16:25:11.879255",
     "exception": false,
     "start_time": "2023-10-08T16:25:11.859112",
     "status": "completed"
    },
    "tags": []
   },
   "outputs": [],
   "source": [
    "# Temparature=2\n",
    "# Humidity=59\n",
    "# Moisture=3\n",
    "# Nitrogen=12\n",
    "# Potassium=0\n",
    "# Phosphorous=3\n",
    "# Soil_Num=2\n",
    "# Crop_Num=1\n",
    "# predict=recommendation(Temparature,Humidity,Moisture,Nitrogen,Potassium,Phosphorous,Soil_Num,Crop_Num)\n",
    "# print(f\"you should use \",predict[0],\" as your fertilizer\")"
   ]
  }
 ],
 "metadata": {
  "kernelspec": {
   "display_name": "Python 3 (ipykernel)",
   "language": "python",
   "name": "python3"
  },
  "language_info": {
   "codemirror_mode": {
    "name": "ipython",
    "version": 3
   },
   "file_extension": ".py",
   "mimetype": "text/x-python",
   "name": "python",
   "nbconvert_exporter": "python",
   "pygments_lexer": "ipython3",
   "version": "3.11.5"
  },
  "papermill": {
   "default_parameters": {},
   "duration": 8.777069,
   "end_time": "2023-10-08T16:25:12.428502",
   "environment_variables": {},
   "exception": null,
   "input_path": "__notebook__.ipynb",
   "output_path": "__notebook__.ipynb",
   "parameters": {},
   "start_time": "2023-10-08T16:25:03.651433",
   "version": "2.4.0"
  }
 },
 "nbformat": 4,
 "nbformat_minor": 5
}
